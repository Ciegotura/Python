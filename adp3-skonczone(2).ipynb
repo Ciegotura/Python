{
 "cells": [
  {
   "cell_type": "markdown",
   "id": "f53dfee5",
   "metadata": {
    "deletable": false,
    "editable": false,
    "nbgrader": {
     "cell_type": "markdown",
     "checksum": "a4d572b9cb35f7417343f3db3cd5a898",
     "grade": false,
     "grade_id": "cell-fcd2666579131b77",
     "locked": true,
     "schema_version": 3,
     "solution": false,
     "task": false
    },
    "tags": []
   },
   "source": [
    "# Analiza danych przestrzennych - ćwiczenia laboratoryjne 2022/2023\n",
    "\n",
    "Ten notatnik zalicza się do grupy zestawów zadań, na podstawie których odbywa się zaliczenie ćwiczeń i podlega zwrotowi do oceny w ustalonym na zajęciach terminie.\n",
    "\n",
    "Uwagi ogólne:\n",
    "- Podczas wykonywania zadań należy korzystać wyłącznie z pakietów zaimportowanych na początku notatnika oraz z pakietów wchodzących w skład standardowej biblioteki Pythona, które można zaimportować samodzielnie we wskazanej komórce.\n",
    "- Swoje rozwiązania należy wprowadzać wyłącznie w miejce następujących fragmentów kodu:<br/> ` # YOUR CODE HERE`<br/> ` raise NotImplementedError()`<br/> Nie należy w żaden sposób modyfikować pozostałych fragmentów kodu oraz elementów notatnika, w szczególności dodawać lub usuwać komórek oraz zmieniać nazwy pliku.\n",
    "- Jeżeli zestaw zadań wymaga skorzystania z funkcji przygotowanych w ramach wcześniejszych zestawów zadań należy je umieścić we wskazanej komórce.\n",
    "- Wszystkie wykresy powinny być wykonane w jednolitym, przejrzystym i czytelnym stylu, mieć nadane tytuły, opisane osie oraz odpowiednio dobrany rozmiar, wielkość punktów i grubość linii. Proporcje osi wykresów przedstawiających rozkłady punktów powinny być dobrane tak, aby wykresy odzwierciedlały rzeczywisty rozkład punktów w przestrzeni.\n",
    "- Zadania, które powodują wyświetlenie komunikatu o błędzie przerywającym wykonywanie kodu nie podlegają ocenie.\n",
    "\n",
    "Przed odesłaniem zestawu zadań do oceny proszę uzupełnić komórkę z danymi autorów rozwiązania (`NAME` - nazwa grupy, `COLLABORATORS` - imiona, nazwiska i numery indeksów członków grupy) oraz upewnić się, że notatnik działa zgodnie z oczekiwaniami. W tym celu należy skorzystać z opcji **Restart Kernel and Run All Cells...** dostępnej na górnej belce notatnika pod symbolem $\\blacktriangleright\\blacktriangleright$. "
   ]
  },
  {
   "cell_type": "code",
   "execution_count": 2,
   "id": "62315a14",
   "metadata": {},
   "outputs": [],
   "source": [
    "NAME = \"Piotr Cięgotura, Wojciech Sutowicz, Brunon Kania, Filip Magnowski\"\n",
    "COLLABORATORS = \"\""
   ]
  },
  {
   "cell_type": "markdown",
   "id": "5c2f5797",
   "metadata": {
    "deletable": false,
    "editable": false,
    "nbgrader": {
     "cell_type": "markdown",
     "checksum": "eddc8826810e4a6f7bf68319da334bd9",
     "grade": false,
     "grade_id": "cell-109006d425e5cf83",
     "locked": true,
     "schema_version": 3,
     "solution": false,
     "task": false
    },
    "tags": []
   },
   "source": [
    "---"
   ]
  },
  {
   "cell_type": "markdown",
   "id": "28276681-0950-4312-92cb-792a97f88e2b",
   "metadata": {
    "deletable": false,
    "editable": false,
    "nbgrader": {
     "cell_type": "markdown",
     "checksum": "0b043234b4053b1ed7c51d086e070d9f",
     "grade": false,
     "grade_id": "cell-1f33a09e5146ecbe",
     "locked": true,
     "schema_version": 3,
     "solution": false,
     "task": false
    },
    "tags": []
   },
   "source": [
    "## Zestaw zadań 3: Badanie intensywności procesów punktowych (część 2)"
   ]
  },
  {
   "cell_type": "code",
   "execution_count": 1,
   "id": "560aae70-e3b4-4a1a-961f-54eebe9922ec",
   "metadata": {
    "deletable": false,
    "editable": false,
    "nbgrader": {
     "cell_type": "code",
     "checksum": "31642740d59cb98672cfd1ca55108013",
     "grade": false,
     "grade_id": "cell-ecd0d56207650fc3",
     "locked": true,
     "schema_version": 3,
     "solution": false,
     "task": false
    },
    "tags": []
   },
   "outputs": [],
   "source": [
    "import numpy as np\n",
    "import pandas as pd\n",
    "import scipy as sp\n",
    "import matplotlib as mpl\n",
    "import matplotlib.pyplot as plt\n",
    "import seaborn as sns"
   ]
  },
  {
   "cell_type": "code",
   "execution_count": 4,
   "id": "85336381-f0de-4bb0-bbd0-d0849707ed38",
   "metadata": {
    "tags": []
   },
   "outputs": [],
   "source": [
    "# Miejsce do importu pakietów wchodzących w skład standardowej biblioteki Pythona oraz ustawienie opcji wykorzystywanych pakietów\n",
    "sns.set() \n",
    "sns.set_theme(style=\"whitegrid\")"
   ]
  },
  {
   "cell_type": "code",
   "execution_count": 5,
   "id": "7ece9eb9-c0d1-479e-bbc2-eddadcef70b5",
   "metadata": {
    "deletable": false,
    "nbgrader": {
     "cell_type": "code",
     "checksum": "a483085d48433d55febe96f376d34572",
     "grade": true,
     "grade_id": "cell-885489b562915779",
     "locked": false,
     "points": 0,
     "schema_version": 3,
     "solution": true,
     "task": false
    },
    "tags": []
   },
   "outputs": [],
   "source": [
    "# Miejsce do wklejenie funkcji ze wcześniejszych zestawów zadań\n",
    "# YOUR CODE HERE\n",
    "#raise NotImplementedError()"
   ]
  },
  {
   "cell_type": "markdown",
   "id": "f4cd1f64-87d1-4158-acc2-bc3c5929a5bb",
   "metadata": {
    "deletable": false,
    "editable": false,
    "nbgrader": {
     "cell_type": "markdown",
     "checksum": "8a36d83b72601f5d199de8f7f6f9c22f",
     "grade": false,
     "grade_id": "cell-f2afbf273f0dc494",
     "locked": true,
     "schema_version": 3,
     "solution": false,
     "task": false
    },
    "tags": []
   },
   "source": [
    "### Przygotowanie danych\n",
    "Wczytaj dane zawarte w plikach CSV załączonych do zestawu zadań."
   ]
  },
  {
   "cell_type": "code",
   "execution_count": 2,
   "id": "5bdc9df9-80a1-45fe-a3e0-bcc9a3268595",
   "metadata": {
    "deletable": false,
    "nbgrader": {
     "cell_type": "code",
     "checksum": "2ca678f358d65294068eb38894d14931",
     "grade": true,
     "grade_id": "cell-ade1720260927626",
     "locked": false,
     "points": 0,
     "schema_version": 3,
     "solution": true,
     "task": false
    },
    "tags": []
   },
   "outputs": [],
   "source": [
    "# YOUR CODE HERE\n",
    "#raise NotImplementedError()\n",
    "I=pd.read_csv(\"points_1.csv\")\n",
    "II=pd.read_csv(\"points_2.csv\")\n",
    "III=pd.read_csv(\"points_3.csv\")\n",
    "def point_count_on_subregions(points, bins, x_lim, y_lim):\n",
    "    \n",
    "    \"\"\"\n",
    "    Parameters\n",
    "    -------\n",
    "    points: DataFrame\n",
    "        Tablica zawierająca dwie kolumny ze współrzędnymi punktów opisane jako \"X\" i \"Y\".\n",
    "    bins: list\n",
    "        Lista określająca liczbę podobszarów w poziomie i pionie.\n",
    "        Przykład: [10, 10]\n",
    "    x_lim: list\n",
    "        Lista określająca zakres wartości współrzędnej X.\n",
    "        Przykład: [0, 10]\n",
    "    y_lim: list\n",
    "        Lista określająca zakres wartości współrzędnej Y.\n",
    "        Przykład: [0, 10]   \n",
    "\n",
    "    Returns\n",
    "    -------\n",
    "    bin_data: list\n",
    "        Lista zawierająca trzy macierze:\n",
    "        - 1D ze współrzędnymi krawędzi podobszarów na osi X,\n",
    "        - 1D ze współrzędnymi krawędzi podobszarów na osi Y,\n",
    "        - 2D z liczbą punków przypisanych do każdego z podobszarów.\n",
    "        Na przykład: [array([0, 1, 2]), array([0, 1, 2]), array([[7, 2], [4, 5]])]\n",
    "    \"\"\"\n",
    "    \n",
    "    # YOUR CODE HERE\n",
    "    \n",
    "    histogram=np.histogram2d(points[\"X\"], points[\"Y\"], bins=bins, range=[x_lim, y_lim])\n",
    "    bin_data=np.transpose(histogram[0])\n",
    "    return bin_data\n",
    "d1=point_count_on_subregions(I,[10,10],[0,20],[0,10])\n",
    "d2=point_count_on_subregions(II,[10,10],[0,20],[0,10])\n",
    "d3=point_count_on_subregions(III,[10,10],[0,20],[0,10])"
   ]
  },
  {
   "cell_type": "markdown",
   "id": "e8a75976-cb9d-4da6-b501-73a9f60bfb6a",
   "metadata": {
    "deletable": false,
    "editable": false,
    "nbgrader": {
     "cell_type": "markdown",
     "checksum": "743eda14608e95a5584ec64d8ebe593a",
     "grade": false,
     "grade_id": "cell-cf8e2b1190d2c9a6",
     "locked": true,
     "schema_version": 3,
     "solution": false,
     "task": false
    },
    "tags": []
   },
   "source": [
    "### Zadanie 1: Test chi-kwadrat Pearsona (30 pkt)\n",
    "\n",
    "Przygotuj funkcję `pearsons_chi2_test()`, która będzie przeprowadzać test istotności chi-kwadrat Pearsona i wyświetlać jego wynik zgodnie z pokazanym poniżej schematem. Następnie wykorzystaj przygotowanią funkcję do sprawdzenia, czy rozkłady punktowe zaimportowane z plików points_1.csv i points_2.csv są jednorodnymi rozkładami Poissona o intensywności równej 20. W obliczeniach przyjmij $\\alpha=0.05$.\n",
    "\n",
    "Rozwiązanie zadania wymaga dodatkowo przygotowania funkcji pomocniczych `distribution_table()` i `poisson_distribution_table()`, które będą przygotowywać szeregi rodzielcze testowanego rozkładu oraz teoretycznego rozkładu Poissona.\n",
    "\n",
    "Algorytm postępowania:\n",
    "- Formułujemy hipotezę zerową i hipotezę alternatywną H1: <br/>\n",
    "H0: Testowana zmienna ma przyjęty rozkład teoretyczny <br/>\n",
    "H1: Testowana zmienna nie ma przyjętego rozkładu teoretycznego\n",
    "- Obliczamy wartość statystyki testowej $\\chi^2$: <br/>\n",
    "$\\chi^2 = \\sum_{i=1}^{k} \\frac{(n_i-n p_i)^2}{np_i}$ <br/>\n",
    "gdzie: $k$ - liczba wariantów badanej cechy, $n_i$ - liczebność i-tego wariantu testowanego rozkładu, $n$ - liczba punktów testowanego rozkładu, $p_i$ - prawdopodobieństwo  i-tego wariantu rozkładu teoretycznego.\n",
    "- Z rozkładu chi-kwadrat wyznaczamy obszar krytyczny testu istotności $\\chi^2_{\\alpha}$: <br/>\n",
    "$\\chi^2_{\\alpha} = \\chi^2_{1-\\alpha, k-s-1}$ <br/>\n",
    "gdzie:  $\\alpha$ - poziom istotności, $k$ - liczba wariantów rozkładu, $s$ - liczba nieznanych parametrów rozkładu.\n",
    "- Podejmujemy decyzję weryfikującą: <br/>\n",
    "$\\chi^2 >= \\chi^2_{\\alpha}$ - Odrzucenie H0 na rzecz H1 na poziomie istotności alpha = X <br/>\n",
    "$\\chi^2 < \\chi^2_{\\alpha}$ - Wynik testu istotności nie daje podstaw do odrzucenia H0 na rzecz H1 na poziomie istotności alpha = X\n",
    "\n",
    "Przykładowe wyniki pracy funkcji `pearsons_chi2_test()`: <br/>\n",
    "<br/>\n",
    "`Test chi-kwadrat Pearsona` <br/>\n",
    "`H0: Testowana zmienna ma przyjęty rozkład teoretyczny` <br/>\n",
    "`H1: Testowana zmienna nie ma przyjętego rozkładu teoretycznego` <br/>\n",
    "`chi2 = 23.307 chi2_alpha = 18.078`<br/>\n",
    "`chi2 >= chi2_alpha` <br/>\n",
    "`Odrzucenie H0 na rzecz H1 na poziomie istotności alpha = 0.05` <br/>\n",
    "<br/>\n",
    "`Test chi-kwadrat Pearsona` <br/>\n",
    "`H0: Testowana zmienna ma przyjęty rozkład teoretyczny` <br/>\n",
    "`H1: Testowana zmienna nie ma przyjętego rozkładu teoretycznego` <br/>\n",
    "`chi2 = 19.521 chi2_alpha = 21.129`<br/>\n",
    "`chi2 < chi2_alpha` <br/>\n",
    "`Wynik testu istotności nie daje podstaw do odrzucenia H0 na rzecz H1 na poziomie istotności alpha = 0.05` <br/>"
   ]
  },
  {
   "cell_type": "markdown",
   "id": "f5e76302-a74f-4232-a713-e522e1553861",
   "metadata": {
    "deletable": false,
    "editable": false,
    "nbgrader": {
     "cell_type": "markdown",
     "checksum": "2af9f2874b81554258b2ac57538e46c9",
     "grade": false,
     "grade_id": "cell-3bd38731291da2b7",
     "locked": true,
     "schema_version": 3,
     "solution": false,
     "task": false
    },
    "tags": []
   },
   "source": [
    "#### a) Przygotowanie funkcji"
   ]
  },
  {
   "cell_type": "code",
   "execution_count": 7,
   "id": "cf751bf0-f36a-4377-b6cc-a259336a5b4a",
   "metadata": {
    "deletable": false,
    "nbgrader": {
     "cell_type": "code",
     "checksum": "015dda85cd36cde13e47973e3dac329e",
     "grade": true,
     "grade_id": "cell-357a2ee8390da86b",
     "locked": false,
     "points": 20,
     "schema_version": 3,
     "solution": true,
     "task": false
    },
    "tags": []
   },
   "outputs": [],
   "source": [
    "import math\n",
    "def distribution_table(bin_counts):\n",
    "    \"\"\"\n",
    "    Parameters\n",
    "    -------\n",
    "    bin_counts: array\n",
    "        Macierz 2D z liczbą punków przypisanych do każdego z podobszarów.\n",
    "\n",
    "    Returns\n",
    "    -------\n",
    "    table: DataFrame\n",
    "        Tablica zawierająca 2 kolumny:\n",
    "        - \"K\", która zawiera wszystkie wartości całkowite z zakresu od minimalnej do maksymalnej liczby zliczeń w obrębie podobszarów,\n",
    "        - \"N(K)\", która zawiera liczby podobszarów, którym zostały przypisane poszczególne liczby punktów.\n",
    "    \"\"\"    \n",
    "    # YOUR CODE HERE minimalna wartosc i maksymalna wartosc w podobszarze, wypisz wszystkie wartosci i dalej ile jest danych zliczen w podobszarze\n",
    "    #raise NotImplementedError()\n",
    "    \n",
    "    \n",
    "    #K od min do maks sortowanie\n",
    "    d=bin_counts.flatten() #zamiana maciezy 2D na 1D\n",
    "    d=np.sort(d) #sortowanie\n",
    "    d=np.unique(d,return_counts=True) #funkcja zwraca wartosci unikalne i ich liczbe wystompien\n",
    "    df=pd.DataFrame()\n",
    "    df['K']=d[0]\n",
    "    df['N(K)']=d[1]\n",
    "           \n",
    "    return df\n",
    "\n",
    "def wartosc_oczekiwana(tab):\n",
    "    \n",
    "    mu=np.average(tab)\n",
    "    \n",
    "    return mu\n",
    "\n",
    "def poisson_distribution_table(k, mu):\n",
    "    \"\"\"\n",
    "    Parameters\n",
    "    -------\n",
    "    k: array\n",
    "        Macierz 1D z wariantami badanej cechy, dla którym ma zostać wyliczone prawdopodobieństwo.\n",
    "    mu: int\n",
    "        Wartość oczekiwana rozkładu Poissona.\n",
    "\n",
    "    Returns\n",
    "    -------\n",
    "    table: DataFrame\n",
    "        Tablica zawierająca 2 kolumny:\n",
    "        - \"K\", która zawiera warianty badanej cechy,\n",
    "        - \"P(K)\", która zawiera wartości prawdopodobieństw rozkładu Poissona wyliczone dla wartości oczekiwanej mu\n",
    "        oraz poszczególnych wariantów badanej cechy znormalizowane do sumy wartości równej 1.\n",
    "    \"\"\"  \n",
    "    # YOUR CODE HERE tu wychodzi szereg rozdzielczy z prawdopodobienstwami \n",
    "    ar=0 # tu będę liczył wartości P(K)\n",
    "    for i in range(0,len(k)):\n",
    "        tmp=(mu**k[i]*2.718281828459045**(-k[i]))/math.factorial(int(k[i]))\n",
    "        ar = np.append(ar, tmp)   #obliczenie prawdopodobienstwa\n",
    "        \n",
    "    ar = np.delete(ar,0)\n",
    "    \n",
    "    df=pd.DataFrame()\n",
    "    df['K']=k\n",
    "    df['P(K)']=ar\n",
    "           \n",
    "    return df\n",
    "\n",
    "def pearsons_chi2_test(tested_distribution, theoretical_distribution, alpha, ddof):\n",
    "    \"\"\"\n",
    "    Parameters\n",
    "    -------\n",
    "    tested_distribution: DataFrame\n",
    "        Tablica opisująca testowany rozkład i zawierająca 2 kolumny:\n",
    "        - \"K\", która zawiera warianty badanej cechy, wartości muszą być identycznej jak kolumna \"K\" zmiennej lokalnej theoretical_distribution,\n",
    "        - \"N(K)\", która zawiera liczebności poszczególnych wariantów badanej cechy.\n",
    "\n",
    "    theoretical_distribution: DataFrame\n",
    "        Tablica opisująca rozkład teoretyczny i zawierająca 2 kolumny:\n",
    "        - \"K\", która zawiera warianty badanej cechy, wartości muszą być identycznej jak kolumna \"K\" zmiennej lokalnej tested_distribution,\n",
    "        - \"P(K)\", która zawiera prawdopodobieństwa poszczególnych wariantów badanej cechy. Wartości z tej kolumny muszą sumować się do 1.\n",
    "    \n",
    "    alpha: float\n",
    "        Wartość z zakresu [0,1] określająca poziom istotności.\n",
    "    \n",
    "    ddof: int\n",
    "        Liczba nieujemna określająca liczbę nieznanych parametrów rozkładu.\n",
    "    \"\"\"\n",
    "    \n",
    "    # YOUR CODE HERE\n",
    "    #raise NotImplementedError()\n",
    "    tmp=0\n",
    "    n = sum(tested_distribution['N(K)'])\n",
    "    for i in range(0,len(tested_distribution['K'])): #wartosc statystyki testowej\n",
    "        tmp = tmp + (tested_distribution['N(K)'][i]-n*theoretical_distribution['P(K)'][i])**2/n*theoretical_distribution['P(K)'][i]\n",
    "        \n",
    "    #obszar krytyczny\n",
    "    \n",
    "    st_swobody = len(tested_distribution['K'])-1\n",
    "    from scipy.stats import chi2\n",
    "    x = np.arange(0, 2*st_swobody, 0.01)\n",
    "\n",
    "    y=chi2.sf(x, df=st_swobody)\n",
    "    #print(tmp)\n",
    "    #print(st_swobody)\n",
    "    #plt.plot(x, chi2.sf(x, df=st_swobody))\n",
    "    for i in range(1,len(y)):\n",
    "        if y[i-1]>=alpha and y[i]<alpha:\n",
    "            chi_alfa = x[i]\n",
    "            print(tmp)\n",
    "            print(y[i])\n",
    "            print(\"Test chi-kwadrat Pearsona\")\n",
    "            print(\"H0: Testowana zmienna ma przyjęty rozkład teoretyczny\")\n",
    "            print(\"H1: Testowana zmienna nie ma przyjętego rozkładu teoretycznego\")\n",
    "            print(\"chi2: {}\".format(tmp))\n",
    "            print(\"chi2_alfa: {}\".format(chi_alfa))\n",
    "    \n",
    "            #if tmp > chi_alfa:\n",
    "            #    print(\"chi2 >= chi2_alpha\")\n",
    "            #    print(\"Odrzucenie H0 na rzecz H1 na poziomie istotności alpha = {}\".format(alpha))\n",
    "            if tmp < chi_alfa:\n",
    "                print(\"chi2 < chi2_alpha\")\n",
    "                print(\"Wynik testu istotności nie daje podstaw do odrzucenia H0 na rzecz H1 na poziomie istotności alpha = {}\".format(alpha))\n",
    "            else:\n",
    "                print(\"chi2 >= chi2_alpha\")\n",
    "                print(\"Odrzucenie H0 na rzecz H1 na poziomie istotności alpha = {}\".format(alpha))\n"
   ]
  },
  {
   "cell_type": "markdown",
   "id": "a4717de4-5c60-4edd-88a9-6c1a296da5e8",
   "metadata": {
    "deletable": false,
    "editable": false,
    "nbgrader": {
     "cell_type": "markdown",
     "checksum": "c87021b1e1c33db87458c8245bac7972",
     "grade": false,
     "grade_id": "cell-8faafe8175d68f1e",
     "locked": true,
     "schema_version": 3,
     "solution": false,
     "task": false
    },
    "tags": []
   },
   "source": [
    "#### b) Weryfikacja hipotezy o rozkładzie 1"
   ]
  },
  {
   "cell_type": "code",
   "execution_count": 8,
   "id": "684018bf-b940-4b7d-b370-6cb84f951028",
   "metadata": {
    "deletable": false,
    "nbgrader": {
     "cell_type": "code",
     "checksum": "050b275460b26403b19391a8d71f095d",
     "grade": true,
     "grade_id": "cell-10530e4bdc225d2e",
     "locked": false,
     "points": 5,
     "schema_version": 3,
     "solution": true,
     "task": false
    },
    "tags": []
   },
   "outputs": [
    {
     "name": "stdout",
     "output_type": "stream",
     "text": [
      "p_1\n",
      "26\n",
      "3.8059217201149396e-05\n",
      "0.04994673642535339\n",
      "Test chi-kwadrat Pearsona\n",
      "H0: Testowana zmienna ma przyjęty rozkład teoretyczny\n",
      "H1: Testowana zmienna nie ma przyjętego rozkładu teoretycznego\n",
      "chi2: 3.8059217201149396e-05\n",
      "chi2_alfa: 38.89\n",
      "chi2 < chi2_alpha\n",
      "Wynik testu istotności nie daje podstaw do odrzucenia H0 na rzecz H1 na poziomie istotności alpha = 0.05\n",
      "p_3\n",
      "28\n",
      "1.156881021824591e-06\n",
      "0.0499695202855991\n",
      "Test chi-kwadrat Pearsona\n",
      "H0: Testowana zmienna ma przyjęty rozkład teoretyczny\n",
      "H1: Testowana zmienna nie ma przyjętego rozkładu teoretycznego\n",
      "chi2: 1.156881021824591e-06\n",
      "chi2_alfa: 41.34\n",
      "chi2 < chi2_alpha\n",
      "Wynik testu istotności nie daje podstaw do odrzucenia H0 na rzecz H1 na poziomie istotności alpha = 0.05\n"
     ]
    },
    {
     "data": {
      "image/png": "[encoded data removed]",
      "text/plain": [
       "<Figure size 640x480 with 1 Axes>"
      ]
     },
     "metadata": {},
     "output_type": "display_data"
    }
   ],
   "source": [
    "# YOUR CODE HERE\n",
    "#raise NotImplementedError()\n",
    "   \n",
    "#points_1\n",
    "print(\"p_1\")\n",
    "p=distribution_table(d1)\n",
    "pp=poisson_distribution_table(p['K'],20)\n",
    "pearsons_chi2_test(p,pp,0.05,1)\n",
    "\n",
    "#points_3\n",
    "print(\"p_3\")\n",
    "e=distribution_table(d3)\n",
    "ee=poisson_distribution_table(e['K'],20)\n",
    "pearsons_chi2_test(e,ee,0.05,1)"
   ]
  },
  {
   "cell_type": "markdown",
   "id": "93b23413-4913-4792-9232-179b65824458",
   "metadata": {
    "deletable": false,
    "editable": false,
    "nbgrader": {
     "cell_type": "markdown",
     "checksum": "e8e2a2cbf02e7f2ae96e022496bf73c7",
     "grade": false,
     "grade_id": "cell-6278fccf5c8254be",
     "locked": true,
     "schema_version": 3,
     "solution": false,
     "task": false
    },
    "tags": []
   },
   "source": [
    "#### c) Weryfikacja hipotezy o rozkładzie 2"
   ]
  },
  {
   "cell_type": "code",
   "execution_count": 9,
   "id": "40328148-42ac-443f-a33e-acf562aa69f9",
   "metadata": {
    "deletable": false,
    "nbgrader": {
     "cell_type": "code",
     "checksum": "a38294ac11132e0606cc55adc9fb4537",
     "grade": true,
     "grade_id": "cell-6c54b48d31e662da",
     "locked": false,
     "points": 5,
     "schema_version": 3,
     "solution": true,
     "task": false
    },
    "tags": []
   },
   "outputs": [
    {
     "name": "stdout",
     "output_type": "stream",
     "text": [
      "p_2\n",
      "38\n",
      "4354.914290689345\n",
      "0.049939004821059875\n",
      "Test chi-kwadrat Pearsona\n",
      "H0: Testowana zmienna ma przyjęty rozkład teoretyczny\n",
      "H1: Testowana zmienna nie ma przyjętego rozkładu teoretycznego\n",
      "chi2: 4354.914290689345\n",
      "chi2_alfa: 53.39\n",
      "chi2 >= chi2_alpha\n",
      "Odrzucenie H0 na rzecz H1 na poziomie istotności alpha = 0.05\n"
     ]
    },
    {
     "data": {
      "image/png": "[encoded data removed]",
      "text/plain": [
       "<Figure size 640x480 with 1 Axes>"
      ]
     },
     "metadata": {},
     "output_type": "display_data"
    }
   ],
   "source": [
    "# YOUR CODE HERE\n",
    "#points_2\n",
    "print(\"p_2\")\n",
    "o=distribution_table(d2)\n",
    "oo=poisson_distribution_table(o['K'],20)\n",
    "pearsons_chi2_test(o,oo,0.05,1)\n",
    "# raise NotImplementedError()"
   ]
  },
  {
   "cell_type": "markdown",
   "id": "8eb8c0a3-36c4-4eee-a0a3-82f5f93008c5",
   "metadata": {
    "deletable": false,
    "editable": false,
    "nbgrader": {
     "cell_type": "markdown",
     "checksum": "54173c3c63922e471c1eed46a21f9b71",
     "grade": false,
     "grade_id": "cell-46f87024c5253ba3",
     "locked": true,
     "schema_version": 3,
     "solution": false,
     "task": false
    },
    "tags": []
   },
   "source": [
    "### Zadanie 2: Test Kołmogorowa - Smirnowa (20 pkt)\n",
    "\n",
    "Przygotuj funkcję `kolmogorow_smirnow_test()`, która będzie przeprowadzać test istotności Kołmogorowa-Smirnowa i wyświetlać jego wynik zgodnie z pokazanym poniżej schematem. Następnie wykorzystaj przygotowanią funkcję do sprawdzenia, czy rozkład punktowy zaimportowany z pliku points_3.csv jest jednorodnym rozkładem Poissona. W obliczeniach przyjmij poziom istotności $\\alpha=0.05$.\n",
    "\n",
    "Algorytm postępowania:\n",
    "- Formułujemy hipotezę zerową i hipotezę alternatywną H1: <br/>\n",
    "H0: Testowana zmienna ma przyjęty rozkład teoretyczny <br/>\n",
    "H1: Testowana zmienna nie ma przyjętego rozkładu teoretycznego\n",
    "- Obliczamy wartość statystyki testowej $\\lambda$: <br/>\n",
    "$D = \\sup_{x}(|F_t - F_0|)$ <br/>\n",
    "$\\lambda = D\\sqrt{n}$ <br/>\n",
    "gdzie: $F_t$ - dystrybuanta testowanego rozkładu,  $F_0$ - dystrybuanta rozkładu teoretycznego, $n$ - liczba punktów.\n",
    "- Z rozkładu Kołomogorowa wyznaczamy obszar krytyczny testu istotności $\\lambda_{\\alpha}$: <br/>\n",
    "$\\lambda_{\\alpha} = \\lambda_{1-\\alpha}$ <br/>\n",
    "gdzie:  $\\alpha$ - poziom istotności.\n",
    "- Podejmujemy decyzję weryfikującą: <br/>\n",
    "$\\lambda >= \\lambda_{\\alpha}$ - Odrzucenie H0 na rzecz H1 na poziomie istotności alpha = X <br/>\n",
    "$\\lambda < \\lambda_{\\alpha}$ - Wynik testu istotności nie daje podstaw do odrzucenia H0 na rzecz H1 na poziomie istotności alpha = X\n",
    "\n",
    "Uwaga! Test należy przeprowadzić niezależnie dla współrzędnej X i Y. Decyzja jest podejmowana na podstawie wyników obu testów.\n",
    "\n",
    "\n",
    "Przykładowe wyniki pracy funkcji `kolmogorow_smirnow_test()`: <br/>\n",
    "<br/>\n",
    "`Test Kołmogorowa-Smirnowa dla współrzędnej X` <br/>\n",
    "`H0: Testowana zmienna ma przyjęty rozkład teoretyczny` <br/>\n",
    "`H1: Testowana zmienna nie ma przyjętego rozkładu teoretycznego` <br/>\n",
    "`lambda = 2.036  lambda_alpha = 1.255`<br/>\n",
    "`lambda >= lambda_alpha` <br/>\n",
    "`Odrzucenie H0 na rzecz H1 na poziomie istotności alpha = 0.05` <br/>\n",
    "<br/>\n",
    "`Test Kołmogorowa-Smirnowa dla współrzędnej Y` <br/>\n",
    "`H0: Testowana zmienna ma przyjęty rozkład teoretyczny` <br/>\n",
    "`H1: Testowana zmienna nie ma przyjętego rozkładu teoretycznego` <br/>\n",
    "`lambda = 1.136  lambda_alpha = 1.748` <br/>\n",
    "`lambda < D_alpha` <br/>\n",
    "`Wynik testu istotności nie daje podstaw do odrzucenia H0 na rzecz H1 na poziomie istotności alpha = 0.05`"
   ]
  },
  {
   "cell_type": "markdown",
   "id": "bb71dfcb-8675-4dc3-bc86-0cbbb86c9d6e",
   "metadata": {
    "deletable": false,
    "editable": false,
    "nbgrader": {
     "cell_type": "markdown",
     "checksum": "57120b85d632c43b08cf4d21fca7d8d9",
     "grade": false,
     "grade_id": "cell-b572214484a8c02e",
     "locked": true,
     "schema_version": 3,
     "solution": false,
     "task": false
    },
    "tags": []
   },
   "source": [
    "#### a) Przygotowanie funkcji"
   ]
  },
  {
   "cell_type": "code",
   "execution_count": 27,
   "id": "13e653bc-c56b-42d8-95a5-3d5ac5b8eeff",
   "metadata": {
    "deletable": false,
    "nbgrader": {
     "cell_type": "code",
     "checksum": "a0f57a4fa3ac67a55876d97fbdfb726b",
     "grade": true,
     "grade_id": "cell-2f066333ab586e29",
     "locked": false,
     "points": 10,
     "schema_version": 3,
     "solution": true,
     "task": false
    },
    "tags": []
   },
   "outputs": [],
   "source": [
    "def kolmogorow_smirnow_test(tested_points, theoretical_points, alpha, ddof):\n",
    "    \"\"\"\n",
    "    Parameters\n",
    "    -------\n",
    "    tested_points: DataFrame\n",
    "        Tablica zawierająca kolumnę ze współrzędnymi punktów testowanego rozkładu opisaną jako \"X\" lub \"Y\".\n",
    "\n",
    "    theoretical_points: DataFrame\n",
    "        Tablica zawierająca kolumnę ze współrzędnymi punktów toeretycznego rozkładu opisaną jako \"X\" lub \"Y\".\n",
    "    \n",
    "    alpha: float\n",
    "        Wartość z zakresu [0,1] określająca poziom istotności.\n",
    "    \n",
    "    ddof: int\n",
    "        Liczba nieujemna określająca liczbę nieznanych parametrów rozkładu.\n",
    "    \"\"\"\n",
    "    # YOUR CODE HERE\n",
    "    D,_=sp.stats.kstest(tested_points,theoretical_points)\n",
    "    \n",
    "    lmbda = D*np.sqrt(len(tested_points))\n",
    "  \n",
    "    \n",
    "    lmbda_alpha = sp.stats.kstwobign.ppf(1-alpha)\n",
    "    \n",
    "    print(\"Test Kołmogorowa-Smirnowa dla współrzędnej {}\".format(tested_points.name))\n",
    "    print(\"H0: Testowana zmienna ma przyjęty rozkład teoretyczny\")\n",
    "    print(\"H1: Testowana zmienna nie ma przyjętego rozkładu teoretycznego\")\n",
    "    \n",
    "    print(\"Lambda wynosi: {}\".format(lmbda))\n",
    "    print(\"Lambda alpha wynosi: {}\".format(lmbda_alpha))\n",
    "    \n",
    "    if lmbda >= lmbda_alpha:\n",
    "        print(\"lmbda >= lmbda_alpha\")\n",
    "        print(\"Odrzucenie H0 na rzecz H1 na poziomie istotności alpha = {}\".format(alpha))\n",
    "    elif lmbda < lmbda_alpha:\n",
    "        print(\"lmbda < lmbda_alpha\")\n",
    "        print(\"Wynik testu istotności nie daje podstaw do odrzucenia H0 na rzecz H1 na poziomie istotności alpha = {}\".format(alpha)) \n",
    "    # raise NotImplementedError()"
   ]
  },
  {
   "cell_type": "markdown",
   "id": "f853e0f4-8b60-4773-956e-ba988fc22cb1",
   "metadata": {
    "deletable": false,
    "editable": false,
    "nbgrader": {
     "cell_type": "markdown",
     "checksum": "c1cb5d14963e6cd5d55b13fe85196de9",
     "grade": false,
     "grade_id": "cell-3912a59c00ac417b",
     "locked": true,
     "schema_version": 3,
     "solution": false,
     "task": false
    },
    "tags": []
   },
   "source": [
    "#### b) Weryfikacja hipotezy o rozkładzie 3"
   ]
  },
  {
   "cell_type": "code",
   "execution_count": 30,
   "id": "a7c70431-2637-4377-96d0-a6d7eb27ad7e",
   "metadata": {
    "deletable": false,
    "nbgrader": {
     "cell_type": "code",
     "checksum": "c51fd2090383864238854567c520a1af",
     "grade": true,
     "grade_id": "cell-a815b45ab15cc87c",
     "locked": false,
     "points": 10,
     "schema_version": 3,
     "solution": true,
     "task": false
    },
    "tags": []
   },
   "outputs": [
    {
     "name": "stdout",
     "output_type": "stream",
     "text": [
      "Test Kołmogorowa-Smirnowa dla współrzędnej X\n",
      "H0: Testowana zmienna ma przyjęty rozkład teoretyczny\n",
      "H1: Testowana zmienna nie ma przyjętego rozkładu teoretycznego\n",
      "Lambda wynosi: 2.155744924824021\n",
      "Lambda alpha wynosi: 1.3580986393225505\n",
      "lmbda >= lmbda_alpha\n",
      "Odrzucenie H0 na rzecz H1 na poziomie istotności alpha = 0.05\n",
      "Test Kołmogorowa-Smirnowa dla współrzędnej Y\n",
      "H0: Testowana zmienna ma przyjęty rozkład teoretyczny\n",
      "H1: Testowana zmienna nie ma przyjętego rozkładu teoretycznego\n",
      "Lambda wynosi: 0.5706383624534173\n",
      "Lambda alpha wynosi: 1.3580986393225505\n",
      "lmbda < lmbda_alpha\n",
      "Wynik testu istotności nie daje podstaw do odrzucenia H0 na rzecz H1 na poziomie istotności alpha = 0.05\n"
     ]
    }
   ],
   "source": [
    "# YOUR CODE HERE\n",
    "cdfx = np.linspace(0, 20, num=len(III))\n",
    "cdfy = np.linspace(0, 10, num=len(III))\n",
    "#print(cdf)\n",
    "\n",
    "kolmogorow_smirnow_test(III['X'], cdfx, 0.05, 0)\n",
    "kolmogorow_smirnow_test(III['Y'], cdfy, 0.05, 0)\n",
    "#raise NotImplementedError()"
   ]
  },
  {
   "cell_type": "code",
   "execution_count": 2,
   "id": "2554aaa9-142f-4e88-ad8e-44d76d55ac90",
   "metadata": {},
   "outputs": [
    {
     "name": "stdout",
     "output_type": "stream",
     "text": [
      "i\n"
     ]
    }
   ],
   "source": []
  },
  {
   "cell_type": "code",
   "execution_count": null,
   "id": "28dc93fa-cca2-4a9e-9533-6844c3d1c6b8",
   "metadata": {},
   "outputs": [],
   "source": []
  }
 ],
 "metadata": {
  "kernelspec": {
   "display_name": "Python 3 (ipykernel)",
   "language": "python",
   "name": "python3"
  },
  "language_info": {
   "codemirror_mode": {
    "name": "ipython",
    "version": 3
   },
   "file_extension": ".py",
   "mimetype": "text/x-python",
   "name": "python",
   "nbconvert_exporter": "python",
   "pygments_lexer": "ipython3",
   "version": "3.10.8"
  }
 },
 "nbformat": 4,
 "nbformat_minor": 5
}
